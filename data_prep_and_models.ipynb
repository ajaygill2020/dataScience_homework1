{
 "cells": [
  {
   "cell_type": "code",
   "execution_count": 1,
   "id": "ea48c0be-657c-4202-85fd-fa8662aff05b",
   "metadata": {},
   "outputs": [],
   "source": [
    "%reload_ext autoreload"
   ]
  },
  {
   "cell_type": "code",
   "execution_count": 2,
   "id": "1d5f2e4c-10af-4a1e-b4cd-497fb1724a1f",
   "metadata": {
    "jupyter": {
     "source_hidden": true
    }
   },
   "outputs": [],
   "source": [
    "%autoreload 2"
   ]
  },
  {
   "cell_type": "code",
   "execution_count": 3,
   "id": "1b2c0978-a211-4859-85ba-939c19aa46a6",
   "metadata": {
    "jupyter": {
     "source_hidden": true
    }
   },
   "outputs": [],
   "source": [
    "import numpy as np\n",
    "import pandas as pd\n",
    "import matplotlib.pyplot as plt\n",
    "import seaborn as sns"
   ]
  },
  {
   "cell_type": "code",
   "execution_count": 4,
   "id": "a9294b6b-6a69-440e-b827-3d2d9fd80894",
   "metadata": {},
   "outputs": [],
   "source": [
    "%matplotlib inline"
   ]
  },
  {
   "cell_type": "code",
   "execution_count": 5,
   "id": "1aeb4a37-4875-40d8-9c0a-b28b88960d73",
   "metadata": {},
   "outputs": [],
   "source": [
    "housing_df = pd.read_csv(\"./data/kc_house_data_original.csv\")"
   ]
  },
  {
   "cell_type": "code",
   "execution_count": 6,
   "id": "e227f2a3-0c7d-4eeb-b951-4d609b8e64ca",
   "metadata": {},
   "outputs": [
    {
     "name": "stdout",
     "output_type": "stream",
     "text": [
      "<class 'pandas.core.frame.DataFrame'>\n",
      "RangeIndex: 21613 entries, 0 to 21612\n",
      "Data columns (total 21 columns):\n",
      " #   Column         Non-Null Count  Dtype  \n",
      "---  ------         --------------  -----  \n",
      " 0   id             21613 non-null  int64  \n",
      " 1   date           21613 non-null  object \n",
      " 2   price          21613 non-null  float64\n",
      " 3   bedrooms       21613 non-null  int64  \n",
      " 4   bathrooms      21613 non-null  float64\n",
      " 5   sqft_living    21613 non-null  int64  \n",
      " 6   sqft_lot       21613 non-null  int64  \n",
      " 7   floors         21613 non-null  float64\n",
      " 8   waterfront     21613 non-null  int64  \n",
      " 9   view           21613 non-null  int64  \n",
      " 10  condition      21613 non-null  int64  \n",
      " 11  grade          21613 non-null  int64  \n",
      " 12  sqft_above     21613 non-null  int64  \n",
      " 13  sqft_basement  21613 non-null  int64  \n",
      " 14  yr_built       21613 non-null  int64  \n",
      " 15  yr_renovated   21613 non-null  int64  \n",
      " 16  zipcode        21613 non-null  int64  \n",
      " 17  lat            21613 non-null  float64\n",
      " 18  long           21613 non-null  float64\n",
      " 19  sqft_living15  21613 non-null  int64  \n",
      " 20  sqft_lot15     21613 non-null  int64  \n",
      "dtypes: float64(5), int64(15), object(1)\n",
      "memory usage: 3.5+ MB\n"
     ]
    }
   ],
   "source": [
    "housing_df.info()"
   ]
  },
  {
   "cell_type": "code",
   "execution_count": 7,
   "id": "45d7d3ad-ef5f-44c4-818e-f381b6dfcc08",
   "metadata": {},
   "outputs": [
    {
     "data": {
      "text/html": [
       "<div>\n",
       "<style scoped>\n",
       "    .dataframe tbody tr th:only-of-type {\n",
       "        vertical-align: middle;\n",
       "    }\n",
       "\n",
       "    .dataframe tbody tr th {\n",
       "        vertical-align: top;\n",
       "    }\n",
       "\n",
       "    .dataframe thead th {\n",
       "        text-align: right;\n",
       "    }\n",
       "</style>\n",
       "<table border=\"1\" class=\"dataframe\">\n",
       "  <thead>\n",
       "    <tr style=\"text-align: right;\">\n",
       "      <th></th>\n",
       "      <th>id</th>\n",
       "      <th>date</th>\n",
       "      <th>price</th>\n",
       "      <th>bedrooms</th>\n",
       "      <th>bathrooms</th>\n",
       "      <th>sqft_living</th>\n",
       "      <th>sqft_lot</th>\n",
       "      <th>floors</th>\n",
       "      <th>waterfront</th>\n",
       "      <th>view</th>\n",
       "      <th>...</th>\n",
       "      <th>grade</th>\n",
       "      <th>sqft_above</th>\n",
       "      <th>sqft_basement</th>\n",
       "      <th>yr_built</th>\n",
       "      <th>yr_renovated</th>\n",
       "      <th>zipcode</th>\n",
       "      <th>lat</th>\n",
       "      <th>long</th>\n",
       "      <th>sqft_living15</th>\n",
       "      <th>sqft_lot15</th>\n",
       "    </tr>\n",
       "  </thead>\n",
       "  <tbody>\n",
       "    <tr>\n",
       "      <th>0</th>\n",
       "      <td>7129300520</td>\n",
       "      <td>20141013T000000</td>\n",
       "      <td>221900.0</td>\n",
       "      <td>3</td>\n",
       "      <td>1.00</td>\n",
       "      <td>1180</td>\n",
       "      <td>5650</td>\n",
       "      <td>1.0</td>\n",
       "      <td>0</td>\n",
       "      <td>0</td>\n",
       "      <td>...</td>\n",
       "      <td>7</td>\n",
       "      <td>1180</td>\n",
       "      <td>0</td>\n",
       "      <td>1955</td>\n",
       "      <td>0</td>\n",
       "      <td>98178</td>\n",
       "      <td>47.5112</td>\n",
       "      <td>-122.257</td>\n",
       "      <td>1340</td>\n",
       "      <td>5650</td>\n",
       "    </tr>\n",
       "    <tr>\n",
       "      <th>1</th>\n",
       "      <td>6414100192</td>\n",
       "      <td>20141209T000000</td>\n",
       "      <td>538000.0</td>\n",
       "      <td>3</td>\n",
       "      <td>2.25</td>\n",
       "      <td>2570</td>\n",
       "      <td>7242</td>\n",
       "      <td>2.0</td>\n",
       "      <td>0</td>\n",
       "      <td>0</td>\n",
       "      <td>...</td>\n",
       "      <td>7</td>\n",
       "      <td>2170</td>\n",
       "      <td>400</td>\n",
       "      <td>1951</td>\n",
       "      <td>1991</td>\n",
       "      <td>98125</td>\n",
       "      <td>47.7210</td>\n",
       "      <td>-122.319</td>\n",
       "      <td>1690</td>\n",
       "      <td>7639</td>\n",
       "    </tr>\n",
       "    <tr>\n",
       "      <th>2</th>\n",
       "      <td>5631500400</td>\n",
       "      <td>20150225T000000</td>\n",
       "      <td>180000.0</td>\n",
       "      <td>2</td>\n",
       "      <td>1.00</td>\n",
       "      <td>770</td>\n",
       "      <td>10000</td>\n",
       "      <td>1.0</td>\n",
       "      <td>0</td>\n",
       "      <td>0</td>\n",
       "      <td>...</td>\n",
       "      <td>6</td>\n",
       "      <td>770</td>\n",
       "      <td>0</td>\n",
       "      <td>1933</td>\n",
       "      <td>0</td>\n",
       "      <td>98028</td>\n",
       "      <td>47.7379</td>\n",
       "      <td>-122.233</td>\n",
       "      <td>2720</td>\n",
       "      <td>8062</td>\n",
       "    </tr>\n",
       "    <tr>\n",
       "      <th>3</th>\n",
       "      <td>2487200875</td>\n",
       "      <td>20141209T000000</td>\n",
       "      <td>604000.0</td>\n",
       "      <td>4</td>\n",
       "      <td>3.00</td>\n",
       "      <td>1960</td>\n",
       "      <td>5000</td>\n",
       "      <td>1.0</td>\n",
       "      <td>0</td>\n",
       "      <td>0</td>\n",
       "      <td>...</td>\n",
       "      <td>7</td>\n",
       "      <td>1050</td>\n",
       "      <td>910</td>\n",
       "      <td>1965</td>\n",
       "      <td>0</td>\n",
       "      <td>98136</td>\n",
       "      <td>47.5208</td>\n",
       "      <td>-122.393</td>\n",
       "      <td>1360</td>\n",
       "      <td>5000</td>\n",
       "    </tr>\n",
       "    <tr>\n",
       "      <th>4</th>\n",
       "      <td>1954400510</td>\n",
       "      <td>20150218T000000</td>\n",
       "      <td>510000.0</td>\n",
       "      <td>3</td>\n",
       "      <td>2.00</td>\n",
       "      <td>1680</td>\n",
       "      <td>8080</td>\n",
       "      <td>1.0</td>\n",
       "      <td>0</td>\n",
       "      <td>0</td>\n",
       "      <td>...</td>\n",
       "      <td>8</td>\n",
       "      <td>1680</td>\n",
       "      <td>0</td>\n",
       "      <td>1987</td>\n",
       "      <td>0</td>\n",
       "      <td>98074</td>\n",
       "      <td>47.6168</td>\n",
       "      <td>-122.045</td>\n",
       "      <td>1800</td>\n",
       "      <td>7503</td>\n",
       "    </tr>\n",
       "  </tbody>\n",
       "</table>\n",
       "<p>5 rows × 21 columns</p>\n",
       "</div>"
      ],
      "text/plain": [
       "           id             date     price  bedrooms  bathrooms  sqft_living  \\\n",
       "0  7129300520  20141013T000000  221900.0         3       1.00         1180   \n",
       "1  6414100192  20141209T000000  538000.0         3       2.25         2570   \n",
       "2  5631500400  20150225T000000  180000.0         2       1.00          770   \n",
       "3  2487200875  20141209T000000  604000.0         4       3.00         1960   \n",
       "4  1954400510  20150218T000000  510000.0         3       2.00         1680   \n",
       "\n",
       "   sqft_lot  floors  waterfront  view  ...  grade  sqft_above  sqft_basement  \\\n",
       "0      5650     1.0           0     0  ...      7        1180              0   \n",
       "1      7242     2.0           0     0  ...      7        2170            400   \n",
       "2     10000     1.0           0     0  ...      6         770              0   \n",
       "3      5000     1.0           0     0  ...      7        1050            910   \n",
       "4      8080     1.0           0     0  ...      8        1680              0   \n",
       "\n",
       "   yr_built  yr_renovated  zipcode      lat     long  sqft_living15  \\\n",
       "0      1955             0    98178  47.5112 -122.257           1340   \n",
       "1      1951          1991    98125  47.7210 -122.319           1690   \n",
       "2      1933             0    98028  47.7379 -122.233           2720   \n",
       "3      1965             0    98136  47.5208 -122.393           1360   \n",
       "4      1987             0    98074  47.6168 -122.045           1800   \n",
       "\n",
       "   sqft_lot15  \n",
       "0        5650  \n",
       "1        7639  \n",
       "2        8062  \n",
       "3        5000  \n",
       "4        7503  \n",
       "\n",
       "[5 rows x 21 columns]"
      ]
     },
     "execution_count": 7,
     "metadata": {},
     "output_type": "execute_result"
    }
   ],
   "source": [
    "housing_df.head()"
   ]
  },
  {
   "cell_type": "code",
   "execution_count": 8,
   "id": "e24b0f16-5a02-4c68-bb78-b759eca13487",
   "metadata": {},
   "outputs": [
    {
     "name": "stdout",
     "output_type": "stream",
     "text": [
      "1 0\n"
     ]
    }
   ],
   "source": [
    "print(int(True), int(False))"
   ]
  },
  {
   "cell_type": "code",
   "execution_count": 9,
   "id": "6522cdd8-f489-4ce2-9d6a-bb526991d423",
   "metadata": {},
   "outputs": [],
   "source": [
    "housing_df['price_gt_1M'] = housing_df['price'].map(lambda x: int(x >= 1000000)) "
   ]
  },
  {
   "cell_type": "code",
   "execution_count": 10,
   "id": "d872c9e1-038c-474e-944e-a991e1fbcaa5",
   "metadata": {},
   "outputs": [
    {
     "name": "stdout",
     "output_type": "stream",
     "text": [
      "<class 'pandas.core.frame.DataFrame'>\n",
      "RangeIndex: 21613 entries, 0 to 21612\n",
      "Data columns (total 20 columns):\n",
      " #   Column         Non-Null Count  Dtype  \n",
      "---  ------         --------------  -----  \n",
      " 0   price          21613 non-null  float64\n",
      " 1   bedrooms       21613 non-null  int64  \n",
      " 2   bathrooms      21613 non-null  float64\n",
      " 3   sqft_living    21613 non-null  int64  \n",
      " 4   sqft_lot       21613 non-null  int64  \n",
      " 5   floors         21613 non-null  float64\n",
      " 6   waterfront     21613 non-null  int64  \n",
      " 7   view           21613 non-null  int64  \n",
      " 8   condition      21613 non-null  int64  \n",
      " 9   grade          21613 non-null  int64  \n",
      " 10  sqft_above     21613 non-null  int64  \n",
      " 11  sqft_basement  21613 non-null  int64  \n",
      " 12  yr_built       21613 non-null  int64  \n",
      " 13  yr_renovated   21613 non-null  int64  \n",
      " 14  zipcode        21613 non-null  int64  \n",
      " 15  lat            21613 non-null  float64\n",
      " 16  long           21613 non-null  float64\n",
      " 17  sqft_living15  21613 non-null  int64  \n",
      " 18  sqft_lot15     21613 non-null  int64  \n",
      " 19  price_gt_1M    21613 non-null  int64  \n",
      "dtypes: float64(5), int64(15)\n",
      "memory usage: 3.3 MB\n"
     ]
    }
   ],
   "source": [
    "housing_df = housing_df.iloc[:, 2:]\n",
    "housing_df.info()"
   ]
  },
  {
   "cell_type": "code",
   "execution_count": 11,
   "id": "0c1fa9b3-4674-4366-b933-153e04e80b6f",
   "metadata": {},
   "outputs": [
    {
     "data": {
      "text/plain": [
       "[1, 2, 3, 4, 5, 6, 7, 8, 9, 10, 11, 12, 13, 14, 15, 16, 17, 18, 19]"
      ]
     },
     "execution_count": 11,
     "metadata": {},
     "output_type": "execute_result"
    }
   ],
   "source": [
    "newcols_class = [_ for _ in range(1, 20)]\n",
    "newcols_class"
   ]
  },
  {
   "cell_type": "code",
   "execution_count": 12,
   "id": "f544a2ce-26be-4098-8b85-3cb782739185",
   "metadata": {},
   "outputs": [
    {
     "data": {
      "text/plain": [
       "[1, 2, 3, 4, 5, 6, 7, 8, 9, 10, 11, 12, 13, 14, 15, 16, 17, 0]"
      ]
     },
     "execution_count": 12,
     "metadata": {},
     "output_type": "execute_result"
    }
   ],
   "source": [
    "newcols_regression = [_ for _ in range(1, 18)]\n",
    "newcols_regression.extend([0])\n",
    "newcols_regression"
   ]
  },
  {
   "cell_type": "code",
   "execution_count": 13,
   "id": "447fc1fd-0c60-4bbe-a038-6dffa4b632c0",
   "metadata": {},
   "outputs": [
    {
     "name": "stdout",
     "output_type": "stream",
     "text": [
      "<class 'pandas.core.frame.DataFrame'>\n",
      "RangeIndex: 21613 entries, 0 to 21612\n",
      "Data columns (total 19 columns):\n",
      " #   Column         Non-Null Count  Dtype  \n",
      "---  ------         --------------  -----  \n",
      " 0   bedrooms       21613 non-null  int64  \n",
      " 1   bathrooms      21613 non-null  float64\n",
      " 2   sqft_living    21613 non-null  int64  \n",
      " 3   sqft_lot       21613 non-null  int64  \n",
      " 4   floors         21613 non-null  float64\n",
      " 5   waterfront     21613 non-null  int64  \n",
      " 6   view           21613 non-null  int64  \n",
      " 7   condition      21613 non-null  int64  \n",
      " 8   grade          21613 non-null  int64  \n",
      " 9   sqft_above     21613 non-null  int64  \n",
      " 10  sqft_basement  21613 non-null  int64  \n",
      " 11  yr_built       21613 non-null  int64  \n",
      " 12  yr_renovated   21613 non-null  int64  \n",
      " 13  zipcode        21613 non-null  int64  \n",
      " 14  lat            21613 non-null  float64\n",
      " 15  long           21613 non-null  float64\n",
      " 16  sqft_living15  21613 non-null  int64  \n",
      " 17  sqft_lot15     21613 non-null  int64  \n",
      " 18  price_gt_1M    21613 non-null  int64  \n",
      "dtypes: float64(4), int64(15)\n",
      "memory usage: 3.1 MB\n"
     ]
    }
   ],
   "source": [
    "housing_class_df = housing_df.iloc[:, newcols_class]\n",
    "housing_class_df.info()"
   ]
  },
  {
   "cell_type": "code",
   "execution_count": 14,
   "id": "c6199cf2-5c13-4584-a524-e9ad7ad06b5a",
   "metadata": {},
   "outputs": [
    {
     "name": "stdout",
     "output_type": "stream",
     "text": [
      "<class 'pandas.core.frame.DataFrame'>\n",
      "RangeIndex: 21613 entries, 0 to 21612\n",
      "Data columns (total 18 columns):\n",
      " #   Column         Non-Null Count  Dtype  \n",
      "---  ------         --------------  -----  \n",
      " 0   bedrooms       21613 non-null  int64  \n",
      " 1   bathrooms      21613 non-null  float64\n",
      " 2   sqft_living    21613 non-null  int64  \n",
      " 3   sqft_lot       21613 non-null  int64  \n",
      " 4   floors         21613 non-null  float64\n",
      " 5   waterfront     21613 non-null  int64  \n",
      " 6   view           21613 non-null  int64  \n",
      " 7   condition      21613 non-null  int64  \n",
      " 8   grade          21613 non-null  int64  \n",
      " 9   sqft_above     21613 non-null  int64  \n",
      " 10  sqft_basement  21613 non-null  int64  \n",
      " 11  yr_built       21613 non-null  int64  \n",
      " 12  yr_renovated   21613 non-null  int64  \n",
      " 13  zipcode        21613 non-null  int64  \n",
      " 14  lat            21613 non-null  float64\n",
      " 15  long           21613 non-null  float64\n",
      " 16  sqft_living15  21613 non-null  int64  \n",
      " 17  price          21613 non-null  float64\n",
      "dtypes: float64(5), int64(13)\n",
      "memory usage: 3.0 MB\n"
     ]
    }
   ],
   "source": [
    "housing_regression_df = housing_df.iloc[:, newcols_regression]\n",
    "housing_regression_df.info()"
   ]
  },
  {
   "cell_type": "code",
   "execution_count": 15,
   "id": "721be5e6-a699-406b-b038-3446f3152ffd",
   "metadata": {},
   "outputs": [],
   "source": [
    "housing_class_df.to_csv(\"./data/kc_house_data_classification.csv\", index=False)"
   ]
  },
  {
   "cell_type": "code",
   "execution_count": 16,
   "id": "df59cd0f-fa5e-42ad-94ea-298b7a7d25f0",
   "metadata": {},
   "outputs": [],
   "source": [
    "housing_regression_df.to_csv(\"./data/kc_house_data_regression.csv\", index=False)"
   ]
  },
  {
   "cell_type": "code",
   "execution_count": 17,
   "id": "17cab876-6666-4385-bb07-53ec86f3c780",
   "metadata": {},
   "outputs": [],
   "source": [
    "# from pandas_profiling import ProfileReport"
   ]
  },
  {
   "cell_type": "code",
   "execution_count": 18,
   "id": "01949d0b-911d-4f69-91bf-e88ba61cbcf2",
   "metadata": {},
   "outputs": [],
   "source": [
    "# profile = ProfileReport(housing_df, title=\"Pandas Profiling Report for Housing\")"
   ]
  },
  {
   "cell_type": "code",
   "execution_count": 19,
   "id": "595cd79c-b2e5-4b34-a576-59f931d62212",
   "metadata": {},
   "outputs": [],
   "source": [
    "# profile.to_file(\"output/pandas_profiling_report.html\")"
   ]
  },
  {
   "cell_type": "code",
   "execution_count": 20,
   "id": "e24d4a81-8260-4916-945f-e9c206f0808d",
   "metadata": {},
   "outputs": [],
   "source": [
    "from sklearn.dummy import DummyClassifier"
   ]
  },
  {
   "cell_type": "code",
   "execution_count": 21,
   "id": "f750b5ef-2925-49da-99f5-6ff85653a90c",
   "metadata": {},
   "outputs": [],
   "source": [
    "X = housing_df.iloc[:, 0:18]\n",
    "y = housing_df.iloc[:, 18]"
   ]
  },
  {
   "cell_type": "code",
   "execution_count": 22,
   "id": "f231b7c7-a958-4eae-bd9a-f44df821bd98",
   "metadata": {},
   "outputs": [
    {
     "name": "stdout",
     "output_type": "stream",
     "text": [
      "<class 'pandas.core.frame.DataFrame'>\n",
      "RangeIndex: 21613 entries, 0 to 21612\n",
      "Data columns (total 18 columns):\n",
      " #   Column         Non-Null Count  Dtype  \n",
      "---  ------         --------------  -----  \n",
      " 0   price          21613 non-null  float64\n",
      " 1   bedrooms       21613 non-null  int64  \n",
      " 2   bathrooms      21613 non-null  float64\n",
      " 3   sqft_living    21613 non-null  int64  \n",
      " 4   sqft_lot       21613 non-null  int64  \n",
      " 5   floors         21613 non-null  float64\n",
      " 6   waterfront     21613 non-null  int64  \n",
      " 7   view           21613 non-null  int64  \n",
      " 8   condition      21613 non-null  int64  \n",
      " 9   grade          21613 non-null  int64  \n",
      " 10  sqft_above     21613 non-null  int64  \n",
      " 11  sqft_basement  21613 non-null  int64  \n",
      " 12  yr_built       21613 non-null  int64  \n",
      " 13  yr_renovated   21613 non-null  int64  \n",
      " 14  zipcode        21613 non-null  int64  \n",
      " 15  lat            21613 non-null  float64\n",
      " 16  long           21613 non-null  float64\n",
      " 17  sqft_living15  21613 non-null  int64  \n",
      "dtypes: float64(5), int64(13)\n",
      "memory usage: 3.0 MB\n"
     ]
    }
   ],
   "source": [
    "X.info()"
   ]
  },
  {
   "cell_type": "code",
   "execution_count": 23,
   "id": "d5e5865d-4ec3-4630-a125-9a424f5ef48e",
   "metadata": {},
   "outputs": [
    {
     "name": "stdout",
     "output_type": "stream",
     "text": [
      "<class 'pandas.core.series.Series'>\n",
      "RangeIndex: 21613 entries, 0 to 21612\n",
      "Series name: sqft_lot15\n",
      "Non-Null Count  Dtype\n",
      "--------------  -----\n",
      "21613 non-null  int64\n",
      "dtypes: int64(1)\n",
      "memory usage: 169.0 KB\n"
     ]
    }
   ],
   "source": [
    "y.info()"
   ]
  },
  {
   "cell_type": "code",
   "execution_count": 24,
   "id": "0f3b413f-30ee-4f09-8288-4cee025422d7",
   "metadata": {},
   "outputs": [],
   "source": [
    "categorical_cols = X.select_dtypes(include=['object']).columns.tolist()\n",
    "numeric_cols = X.select_dtypes(include=['number']).columns.tolist()\n",
    "\n",
    "all_cols = X.columns.tolist()"
   ]
  },
  {
   "cell_type": "code",
   "execution_count": 25,
   "id": "fa550a39-8e1f-428b-91ef-9b20d737d85b",
   "metadata": {},
   "outputs": [],
   "source": [
    "numeric_cols = ['price',\n",
    " 'bedrooms',\n",
    " 'bathrooms',\n",
    " 'sqft_living',\n",
    " 'sqft_lot',\n",
    " 'floors',\n",
    " 'sqft_above',\n",
    " 'sqft_basement',\n",
    " 'yr_built',\n",
    " 'yr_renovated',\n",
    " 'zipcode',\n",
    " 'lat',\n",
    " 'long',\n",
    " 'sqft_living15']"
   ]
  },
  {
   "cell_type": "code",
   "execution_count": 26,
   "id": "4231b084-0969-4d35-b20d-cbfe798c671c",
   "metadata": {},
   "outputs": [],
   "source": [
    "categorical_cols = [ 'waterfront',\n",
    " 'view',\n",
    " 'condition',\n",
    " 'grade',]"
   ]
  },
  {
   "cell_type": "code",
   "execution_count": 27,
   "id": "b3ca7a17-0330-4f36-9dd5-a05d4d99bd2c",
   "metadata": {},
   "outputs": [],
   "source": [
    "assert len(all_cols) == len(categorical_cols) + len(numeric_cols), 'each col should be in either lists'"
   ]
  },
  {
   "cell_type": "code",
   "execution_count": 28,
   "id": "0a3b8e2a-6eb4-440b-9894-74f9281aa0f2",
   "metadata": {},
   "outputs": [
    {
     "data": {
      "text/plain": [
       "[6, 7, 8, 9]"
      ]
     },
     "execution_count": 28,
     "metadata": {},
     "output_type": "execute_result"
    }
   ],
   "source": [
    "categorical_cols_index = [X.columns.get_loc(c) for c in categorical_cols]\n",
    "categorical_cols_index"
   ]
  },
  {
   "cell_type": "code",
   "execution_count": 29,
   "id": "1a1fcad0-7258-4d4d-a9d0-000869e7915f",
   "metadata": {},
   "outputs": [
    {
     "data": {
      "text/plain": [
       "[0, 1, 2, 3, 4, 5, 10, 11, 12, 13, 14, 15, 16, 17]"
      ]
     },
     "execution_count": 29,
     "metadata": {},
     "output_type": "execute_result"
    }
   ],
   "source": [
    "numeric_cols_index = [X.columns.get_loc(c) for c in numeric_cols]\n",
    "numeric_cols_index"
   ]
  },
  {
   "cell_type": "code",
   "execution_count": 30,
   "id": "e73c3ca3-2b2c-4d3c-83cf-72d9d1bdb0d7",
   "metadata": {},
   "outputs": [
    {
     "data": {
      "text/plain": [
       "waterfront     2\n",
       "view           5\n",
       "condition      5\n",
       "grade         12\n",
       "dtype: int64"
      ]
     },
     "execution_count": 30,
     "metadata": {},
     "output_type": "execute_result"
    }
   ],
   "source": [
    "X.iloc[:, categorical_cols_index].nunique()"
   ]
  },
  {
   "cell_type": "code",
   "execution_count": 31,
   "id": "035c1848-1254-4404-b7f7-17dcb06aad29",
   "metadata": {},
   "outputs": [
    {
     "data": {
      "text/plain": [
       "price            4028\n",
       "bedrooms           13\n",
       "bathrooms          30\n",
       "sqft_living      1038\n",
       "sqft_lot         9782\n",
       "floors              6\n",
       "sqft_above        946\n",
       "sqft_basement     306\n",
       "yr_built          116\n",
       "yr_renovated       70\n",
       "zipcode            70\n",
       "lat              5034\n",
       "long              752\n",
       "sqft_living15     777\n",
       "dtype: int64"
      ]
     },
     "execution_count": 31,
     "metadata": {},
     "output_type": "execute_result"
    }
   ],
   "source": [
    "X.iloc[:, numeric_cols_index].nunique()"
   ]
  },
  {
   "cell_type": "code",
   "execution_count": 32,
   "id": "9940b796-31ba-4fc8-9e7c-83e77a0b36cd",
   "metadata": {},
   "outputs": [],
   "source": [
    "# Begin Task Models (Task 4 et al.)\n",
    "from sklearn.compose import ColumnTransformer\n",
    "from sklearn.pipeline import Pipeline, make_pipeline\n",
    "from sklearn.preprocessing import StandardScaler, OneHotEncoder\n",
    "from sklearn.linear_model import LogisticRegression, LogisticRegressionCV\n",
    "from sklearn.model_selection import train_test_split"
   ]
  },
  {
   "cell_type": "code",
   "execution_count": 33,
   "id": "7a3e0345-1cd5-4320-afe6-94b4af0660d3",
   "metadata": {},
   "outputs": [],
   "source": [
    "# Create a StandardScalar object to use on our numeric variables\n",
    "# Create transformer objects\n",
    "numeric_transformer = StandardScaler()"
   ]
  },
  {
   "cell_type": "code",
   "execution_count": 34,
   "id": "0f71a92e-5b34-4c68-bcff-610c52c7fe2f",
   "metadata": {},
   "outputs": [],
   "source": [
    "# Create transformer objects\n",
    "categorical_transformer = OneHotEncoder(handle_unknown='ignore')"
   ]
  },
  {
   "cell_type": "code",
   "execution_count": 35,
   "id": "fe0000b9-03ec-478d-ba1f-fdb94c719811",
   "metadata": {},
   "outputs": [],
   "source": [
    "numeric_cols = ['price',\n",
    " 'bedrooms',\n",
    " 'bathrooms',\n",
    " 'sqft_living',\n",
    " 'sqft_lot',\n",
    " 'floors',\n",
    " 'sqft_above',\n",
    " 'sqft_basement',\n",
    " 'yr_built',\n",
    " 'yr_renovated',\n",
    " 'zipcode',\n",
    " 'lat',\n",
    " 'long',\n",
    " 'sqft_living15']"
   ]
  },
  {
   "cell_type": "code",
   "execution_count": 36,
   "id": "19b5788b-42d4-4ac0-aaf3-66d168d64467",
   "metadata": {},
   "outputs": [],
   "source": [
    "categorical_cols = [ 'waterfront',\n",
    " 'view',\n",
    " 'condition',\n",
    " 'grade',]"
   ]
  },
  {
   "cell_type": "code",
   "execution_count": 37,
   "id": "881dcf3a-61ea-489c-8c96-08f71d67d3c4",
   "metadata": {},
   "outputs": [],
   "source": [
    " transformers=[\n",
    "        ('num', numeric_transformer, numeric_cols),\n",
    "        ('cat', categorical_transformer, categorical_cols)]"
   ]
  },
  {
   "cell_type": "code",
   "execution_count": 38,
   "id": "42fc117a-56b3-46f4-80f0-5b28a25c8b8a",
   "metadata": {},
   "outputs": [],
   "source": [
    "# Bundle transformers together and combine into preprocessor step\n",
    "preprocessor = ColumnTransformer(transformers)"
   ]
  },
  {
   "cell_type": "code",
   "execution_count": 39,
   "id": "3c662755-7613-474b-b31b-0bf94bddeaf3",
   "metadata": {},
   "outputs": [],
   "source": [
    "# Create Classifier model\n",
    "clf_model = LogisticRegression(penalty='l2', C=1, solver='saga', max_iter=500)"
   ]
  },
  {
   "cell_type": "code",
   "execution_count": 40,
   "id": "3e7cb3cd-bb8c-4090-bdf1-afa75155078a",
   "metadata": {},
   "outputs": [],
   "source": [
    "# Append classifer to preprocessing pipeline\n",
    "clf = Pipeline(steps=[('preprocessor', preprocessor),\n",
    "                      ('classifer', clf_model)])"
   ]
  },
  {
   "cell_type": "code",
   "execution_count": 41,
   "id": "fd550b3f-af36-4b77-b1d5-1eeb8fdd62bd",
   "metadata": {},
   "outputs": [
    {
     "data": {
      "text/html": [
       "<style>#sk-container-id-1 {color: black;background-color: white;}#sk-container-id-1 pre{padding: 0;}#sk-container-id-1 div.sk-toggleable {background-color: white;}#sk-container-id-1 label.sk-toggleable__label {cursor: pointer;display: block;width: 100%;margin-bottom: 0;padding: 0.3em;box-sizing: border-box;text-align: center;}#sk-container-id-1 label.sk-toggleable__label-arrow:before {content: \"▸\";float: left;margin-right: 0.25em;color: #696969;}#sk-container-id-1 label.sk-toggleable__label-arrow:hover:before {color: black;}#sk-container-id-1 div.sk-estimator:hover label.sk-toggleable__label-arrow:before {color: black;}#sk-container-id-1 div.sk-toggleable__content {max-height: 0;max-width: 0;overflow: hidden;text-align: left;background-color: #f0f8ff;}#sk-container-id-1 div.sk-toggleable__content pre {margin: 0.2em;color: black;border-radius: 0.25em;background-color: #f0f8ff;}#sk-container-id-1 input.sk-toggleable__control:checked~div.sk-toggleable__content {max-height: 200px;max-width: 100%;overflow: auto;}#sk-container-id-1 input.sk-toggleable__control:checked~label.sk-toggleable__label-arrow:before {content: \"▾\";}#sk-container-id-1 div.sk-estimator input.sk-toggleable__control:checked~label.sk-toggleable__label {background-color: #d4ebff;}#sk-container-id-1 div.sk-label input.sk-toggleable__control:checked~label.sk-toggleable__label {background-color: #d4ebff;}#sk-container-id-1 input.sk-hidden--visually {border: 0;clip: rect(1px 1px 1px 1px);clip: rect(1px, 1px, 1px, 1px);height: 1px;margin: -1px;overflow: hidden;padding: 0;position: absolute;width: 1px;}#sk-container-id-1 div.sk-estimator {font-family: monospace;background-color: #f0f8ff;border: 1px dotted black;border-radius: 0.25em;box-sizing: border-box;margin-bottom: 0.5em;}#sk-container-id-1 div.sk-estimator:hover {background-color: #d4ebff;}#sk-container-id-1 div.sk-parallel-item::after {content: \"\";width: 100%;border-bottom: 1px solid gray;flex-grow: 1;}#sk-container-id-1 div.sk-label:hover label.sk-toggleable__label {background-color: #d4ebff;}#sk-container-id-1 div.sk-serial::before {content: \"\";position: absolute;border-left: 1px solid gray;box-sizing: border-box;top: 0;bottom: 0;left: 50%;z-index: 0;}#sk-container-id-1 div.sk-serial {display: flex;flex-direction: column;align-items: center;background-color: white;padding-right: 0.2em;padding-left: 0.2em;position: relative;}#sk-container-id-1 div.sk-item {position: relative;z-index: 1;}#sk-container-id-1 div.sk-parallel {display: flex;align-items: stretch;justify-content: center;background-color: white;position: relative;}#sk-container-id-1 div.sk-item::before, #sk-container-id-1 div.sk-parallel-item::before {content: \"\";position: absolute;border-left: 1px solid gray;box-sizing: border-box;top: 0;bottom: 0;left: 50%;z-index: -1;}#sk-container-id-1 div.sk-parallel-item {display: flex;flex-direction: column;z-index: 1;position: relative;background-color: white;}#sk-container-id-1 div.sk-parallel-item:first-child::after {align-self: flex-end;width: 50%;}#sk-container-id-1 div.sk-parallel-item:last-child::after {align-self: flex-start;width: 50%;}#sk-container-id-1 div.sk-parallel-item:only-child::after {width: 0;}#sk-container-id-1 div.sk-dashed-wrapped {border: 1px dashed gray;margin: 0 0.4em 0.5em 0.4em;box-sizing: border-box;padding-bottom: 0.4em;background-color: white;}#sk-container-id-1 div.sk-label label {font-family: monospace;font-weight: bold;display: inline-block;line-height: 1.2em;}#sk-container-id-1 div.sk-label-container {text-align: center;}#sk-container-id-1 div.sk-container {/* jupyter's `normalize.less` sets `[hidden] { display: none; }` but bootstrap.min.css set `[hidden] { display: none !important; }` so we also need the `!important` here to be able to override the default hidden behavior on the sphinx rendered scikit-learn.org. See: https://github.com/scikit-learn/scikit-learn/issues/21755 */display: inline-block !important;position: relative;}#sk-container-id-1 div.sk-text-repr-fallback {display: none;}</style><div id=\"sk-container-id-1\" class=\"sk-top-container\"><div class=\"sk-text-repr-fallback\"><pre>Pipeline(steps=[(&#x27;preprocessor&#x27;,\n",
       "                 ColumnTransformer(transformers=[(&#x27;num&#x27;, StandardScaler(),\n",
       "                                                  [&#x27;price&#x27;, &#x27;bedrooms&#x27;,\n",
       "                                                   &#x27;bathrooms&#x27;, &#x27;sqft_living&#x27;,\n",
       "                                                   &#x27;sqft_lot&#x27;, &#x27;floors&#x27;,\n",
       "                                                   &#x27;sqft_above&#x27;,\n",
       "                                                   &#x27;sqft_basement&#x27;, &#x27;yr_built&#x27;,\n",
       "                                                   &#x27;yr_renovated&#x27;, &#x27;zipcode&#x27;,\n",
       "                                                   &#x27;lat&#x27;, &#x27;long&#x27;,\n",
       "                                                   &#x27;sqft_living15&#x27;]),\n",
       "                                                 (&#x27;cat&#x27;,\n",
       "                                                  OneHotEncoder(handle_unknown=&#x27;ignore&#x27;),\n",
       "                                                  [&#x27;waterfront&#x27;, &#x27;view&#x27;,\n",
       "                                                   &#x27;condition&#x27;, &#x27;grade&#x27;])])),\n",
       "                (&#x27;classifer&#x27;,\n",
       "                 LogisticRegression(C=1, max_iter=500, solver=&#x27;saga&#x27;))])</pre><b>In a Jupyter environment, please rerun this cell to show the HTML representation or trust the notebook. <br />On GitHub, the HTML representation is unable to render, please try loading this page with nbviewer.org.</b></div><div class=\"sk-container\" hidden><div class=\"sk-item sk-dashed-wrapped\"><div class=\"sk-label-container\"><div class=\"sk-label sk-toggleable\"><input class=\"sk-toggleable__control sk-hidden--visually\" id=\"sk-estimator-id-1\" type=\"checkbox\" ><label for=\"sk-estimator-id-1\" class=\"sk-toggleable__label sk-toggleable__label-arrow\">Pipeline</label><div class=\"sk-toggleable__content\"><pre>Pipeline(steps=[(&#x27;preprocessor&#x27;,\n",
       "                 ColumnTransformer(transformers=[(&#x27;num&#x27;, StandardScaler(),\n",
       "                                                  [&#x27;price&#x27;, &#x27;bedrooms&#x27;,\n",
       "                                                   &#x27;bathrooms&#x27;, &#x27;sqft_living&#x27;,\n",
       "                                                   &#x27;sqft_lot&#x27;, &#x27;floors&#x27;,\n",
       "                                                   &#x27;sqft_above&#x27;,\n",
       "                                                   &#x27;sqft_basement&#x27;, &#x27;yr_built&#x27;,\n",
       "                                                   &#x27;yr_renovated&#x27;, &#x27;zipcode&#x27;,\n",
       "                                                   &#x27;lat&#x27;, &#x27;long&#x27;,\n",
       "                                                   &#x27;sqft_living15&#x27;]),\n",
       "                                                 (&#x27;cat&#x27;,\n",
       "                                                  OneHotEncoder(handle_unknown=&#x27;ignore&#x27;),\n",
       "                                                  [&#x27;waterfront&#x27;, &#x27;view&#x27;,\n",
       "                                                   &#x27;condition&#x27;, &#x27;grade&#x27;])])),\n",
       "                (&#x27;classifer&#x27;,\n",
       "                 LogisticRegression(C=1, max_iter=500, solver=&#x27;saga&#x27;))])</pre></div></div></div><div class=\"sk-serial\"><div class=\"sk-item sk-dashed-wrapped\"><div class=\"sk-label-container\"><div class=\"sk-label sk-toggleable\"><input class=\"sk-toggleable__control sk-hidden--visually\" id=\"sk-estimator-id-2\" type=\"checkbox\" ><label for=\"sk-estimator-id-2\" class=\"sk-toggleable__label sk-toggleable__label-arrow\">preprocessor: ColumnTransformer</label><div class=\"sk-toggleable__content\"><pre>ColumnTransformer(transformers=[(&#x27;num&#x27;, StandardScaler(),\n",
       "                                 [&#x27;price&#x27;, &#x27;bedrooms&#x27;, &#x27;bathrooms&#x27;,\n",
       "                                  &#x27;sqft_living&#x27;, &#x27;sqft_lot&#x27;, &#x27;floors&#x27;,\n",
       "                                  &#x27;sqft_above&#x27;, &#x27;sqft_basement&#x27;, &#x27;yr_built&#x27;,\n",
       "                                  &#x27;yr_renovated&#x27;, &#x27;zipcode&#x27;, &#x27;lat&#x27;, &#x27;long&#x27;,\n",
       "                                  &#x27;sqft_living15&#x27;]),\n",
       "                                (&#x27;cat&#x27;, OneHotEncoder(handle_unknown=&#x27;ignore&#x27;),\n",
       "                                 [&#x27;waterfront&#x27;, &#x27;view&#x27;, &#x27;condition&#x27;, &#x27;grade&#x27;])])</pre></div></div></div><div class=\"sk-parallel\"><div class=\"sk-parallel-item\"><div class=\"sk-item\"><div class=\"sk-label-container\"><div class=\"sk-label sk-toggleable\"><input class=\"sk-toggleable__control sk-hidden--visually\" id=\"sk-estimator-id-3\" type=\"checkbox\" ><label for=\"sk-estimator-id-3\" class=\"sk-toggleable__label sk-toggleable__label-arrow\">num</label><div class=\"sk-toggleable__content\"><pre>[&#x27;price&#x27;, &#x27;bedrooms&#x27;, &#x27;bathrooms&#x27;, &#x27;sqft_living&#x27;, &#x27;sqft_lot&#x27;, &#x27;floors&#x27;, &#x27;sqft_above&#x27;, &#x27;sqft_basement&#x27;, &#x27;yr_built&#x27;, &#x27;yr_renovated&#x27;, &#x27;zipcode&#x27;, &#x27;lat&#x27;, &#x27;long&#x27;, &#x27;sqft_living15&#x27;]</pre></div></div></div><div class=\"sk-serial\"><div class=\"sk-item\"><div class=\"sk-estimator sk-toggleable\"><input class=\"sk-toggleable__control sk-hidden--visually\" id=\"sk-estimator-id-4\" type=\"checkbox\" ><label for=\"sk-estimator-id-4\" class=\"sk-toggleable__label sk-toggleable__label-arrow\">StandardScaler</label><div class=\"sk-toggleable__content\"><pre>StandardScaler()</pre></div></div></div></div></div></div><div class=\"sk-parallel-item\"><div class=\"sk-item\"><div class=\"sk-label-container\"><div class=\"sk-label sk-toggleable\"><input class=\"sk-toggleable__control sk-hidden--visually\" id=\"sk-estimator-id-5\" type=\"checkbox\" ><label for=\"sk-estimator-id-5\" class=\"sk-toggleable__label sk-toggleable__label-arrow\">cat</label><div class=\"sk-toggleable__content\"><pre>[&#x27;waterfront&#x27;, &#x27;view&#x27;, &#x27;condition&#x27;, &#x27;grade&#x27;]</pre></div></div></div><div class=\"sk-serial\"><div class=\"sk-item\"><div class=\"sk-estimator sk-toggleable\"><input class=\"sk-toggleable__control sk-hidden--visually\" id=\"sk-estimator-id-6\" type=\"checkbox\" ><label for=\"sk-estimator-id-6\" class=\"sk-toggleable__label sk-toggleable__label-arrow\">OneHotEncoder</label><div class=\"sk-toggleable__content\"><pre>OneHotEncoder(handle_unknown=&#x27;ignore&#x27;)</pre></div></div></div></div></div></div></div></div><div class=\"sk-item\"><div class=\"sk-estimator sk-toggleable\"><input class=\"sk-toggleable__control sk-hidden--visually\" id=\"sk-estimator-id-7\" type=\"checkbox\" ><label for=\"sk-estimator-id-7\" class=\"sk-toggleable__label sk-toggleable__label-arrow\">LogisticRegression</label><div class=\"sk-toggleable__content\"><pre>LogisticRegression(C=1, max_iter=500, solver=&#x27;saga&#x27;)</pre></div></div></div></div></div></div></div>"
      ],
      "text/plain": [
       "Pipeline(steps=[('preprocessor',\n",
       "                 ColumnTransformer(transformers=[('num', StandardScaler(),\n",
       "                                                  ['price', 'bedrooms',\n",
       "                                                   'bathrooms', 'sqft_living',\n",
       "                                                   'sqft_lot', 'floors',\n",
       "                                                   'sqft_above',\n",
       "                                                   'sqft_basement', 'yr_built',\n",
       "                                                   'yr_renovated', 'zipcode',\n",
       "                                                   'lat', 'long',\n",
       "                                                   'sqft_living15']),\n",
       "                                                 ('cat',\n",
       "                                                  OneHotEncoder(handle_unknown='ignore'),\n",
       "                                                  ['waterfront', 'view',\n",
       "                                                   'condition', 'grade'])])),\n",
       "                ('classifer',\n",
       "                 LogisticRegression(C=1, max_iter=500, solver='saga'))])"
      ]
     },
     "execution_count": 41,
     "metadata": {},
     "output_type": "execute_result"
    }
   ],
   "source": [
    "# Make a diagram\n",
    "from sklearn import set_config\n",
    "\n",
    "set_config(display='diagram')\n",
    "clf"
   ]
  },
  {
   "cell_type": "code",
   "execution_count": null,
   "id": "1ca160e9-ca99-48d3-91d0-91cfb049a215",
   "metadata": {},
   "outputs": [],
   "source": [
    "# Classifier model\n",
    "clf_model = LogisticRegression(penalty='l2', C=1, solver='saga', max_iter=500)\n",
    "\n",
    "# Append classifer to preprocessing pipeline\n",
    "clf = Pipeline(steps=[('preprocessor', preprocessor),\n",
    "                          ('classifier', clf_model)])\n",
    "# Fit model on new training data\n",
    "clf.fit(X, y)\n",
    "\n",
    "print(\"Training score: %.3f\" % clf.score(X, y))\n",
    "print(\"Test score: %.3f\" % clf.score(X_test, y_test))"
   ]
  },
  {
   "cell_type": "code",
   "execution_count": null,
   "id": "a6e0b645-d110-46d5-9079-9d4300621ca4",
   "metadata": {},
   "outputs": [],
   "source": [
    "# What if C is less than 1\n",
    "\n",
    "# Classifier model\n",
    "clf_model_C01 = LogisticRegression(penalty='l2', C=0.01, solver='saga', max_iter=2000)\n",
    "\n",
    "# Append classifer to preprocessing pipeline\n",
    "clf_C01 = Pipeline(steps=[('preprocessor', preprocessor),\n",
    "                          ('classifier', clf_model_C01)])\n",
    "\n",
    "# Fit model on training data\n",
    "clf_C01.fit(X, y)\n",
    "\n",
    "print(\"Training score: %.3f\" % clf_C01.score(X, y))\n",
    "print(\"Test score: %.3f\" % clf_C01.score(X_test, y_test))"
   ]
  },
  {
   "cell_type": "code",
   "execution_count": null,
   "id": "c88acb44-4c43-45e1-bc71-5d0aab4c5771",
   "metadata": {},
   "outputs": [],
   "source": [
    "# Coefficients\n",
    "clf.named_steps['classifer'].coef_.shape\n",
    "clf_C01.named_steps['classifer'].coef_.shape"
   ]
  },
  {
   "cell_type": "code",
   "execution_count": null,
   "id": "4b6e6eee-71c8-4a21-a73d-38f007c2c882",
   "metadata": {},
   "outputs": [],
   "source": [
    "coef_plot(clf, 'L2, C=1.0')"
   ]
  },
  {
   "cell_type": "code",
   "execution_count": null,
   "id": "2992d093-77d6-4fca-9ad8-ea69be545ea8",
   "metadata": {},
   "outputs": [],
   "source": [
    "coef_plot(clf_C01, 'L1, C='0.01')"
   ]
  }
 ],
 "metadata": {
  "kernelspec": {
   "display_name": "Python 3 (ipykernel)",
   "language": "python",
   "name": "python3"
  },
  "language_info": {
   "codemirror_mode": {
    "name": "ipython",
    "version": 3
   },
   "file_extension": ".py",
   "mimetype": "text/x-python",
   "name": "python",
   "nbconvert_exporter": "python",
   "pygments_lexer": "ipython3",
   "version": "3.11.3"
  }
 },
 "nbformat": 4,
 "nbformat_minor": 5
}
